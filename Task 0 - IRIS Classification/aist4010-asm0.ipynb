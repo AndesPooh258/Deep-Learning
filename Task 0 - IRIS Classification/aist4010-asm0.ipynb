{
 "cells": [
  {
   "cell_type": "code",
   "execution_count": 1,
   "id": "bbe4f901",
   "metadata": {
    "_cell_guid": "b1076dfc-b9ad-4769-8c92-a6c4dae69d19",
    "_uuid": "8f2839f25d086af736a60e9eeb907d3b93b6e0e5",
    "execution": {
     "iopub.execute_input": "2022-01-13T16:30:08.042722Z",
     "iopub.status.busy": "2022-01-13T16:30:08.042058Z",
     "iopub.status.idle": "2022-01-13T16:30:08.053811Z",
     "shell.execute_reply": "2022-01-13T16:30:08.053092Z"
    },
    "papermill": {
     "duration": 0.027618,
     "end_time": "2022-01-13T16:30:08.053989",
     "exception": false,
     "start_time": "2022-01-13T16:30:08.026371",
     "status": "completed"
    },
    "tags": []
   },
   "outputs": [
    {
     "name": "stdout",
     "output_type": "stream",
     "text": [
      "/kaggle/input/aist4010-spring2022-a0/sample_submission.csv\n",
      "/kaggle/input/aist4010-spring2022-a0/X_test.csv\n",
      "/kaggle/input/aist4010-spring2022-a0/y_train.csv\n",
      "/kaggle/input/aist4010-spring2022-a0/X_train.csv\n",
      "/kaggle/input/aist4010-spring2022-a0/iris_information.txt\n"
     ]
    }
   ],
   "source": [
    "# This Python 3 environment comes with many helpful analytics libraries installed\n",
    "# It is defined by the kaggle/python Docker image: https://github.com/kaggle/docker-python\n",
    "# For example, here's several helpful packages to load\n",
    "\n",
    "import numpy as np # linear algebra\n",
    "import pandas as pd # data processing, CSV file I/O (e.g. pd.read_csv)\n",
    "\n",
    "# Input data files are available in the read-only \"../input/\" directory\n",
    "# For example, running this (by clicking run or pressing Shift+Enter) will list all files under the input directory\n",
    "\n",
    "import os\n",
    "for dirname, _, filenames in os.walk('/kaggle/input'):\n",
    "    for filename in filenames:\n",
    "        print(os.path.join(dirname, filename))\n",
    "\n",
    "# You can write up to 20GB to the current directory (/kaggle/working/) that gets preserved as output when you create a version using \"Save & Run All\" \n",
    "# You can also write temporary files to /kaggle/temp/, but they won't be saved outside of the current session"
   ]
  },
  {
   "cell_type": "code",
   "execution_count": 2,
   "id": "7ed54aca",
   "metadata": {
    "execution": {
     "iopub.execute_input": "2022-01-13T16:30:08.070749Z",
     "iopub.status.busy": "2022-01-13T16:30:08.069810Z",
     "iopub.status.idle": "2022-01-13T16:30:09.338874Z",
     "shell.execute_reply": "2022-01-13T16:30:09.338258Z"
    },
    "papermill": {
     "duration": 1.280656,
     "end_time": "2022-01-13T16:30:09.339083",
     "exception": false,
     "start_time": "2022-01-13T16:30:08.058427",
     "status": "completed"
    },
    "tags": []
   },
   "outputs": [],
   "source": [
    "from sklearn.svm import SVC\n",
    "\n",
    "# import csv data\n",
    "X_train = np.loadtxt(open(\"/kaggle/input/aist4010-spring2022-a0/X_train.csv\",\"rb\"), delimiter=\",\", skiprows=0)\n",
    "y_train = np.loadtxt(open(\"/kaggle/input/aist4010-spring2022-a0/y_train.csv\",\"rb\"), delimiter=\",\", skiprows=0)\n",
    "X_test = np.loadtxt(open(\"/kaggle/input/aist4010-spring2022-a0/X_test.csv\",\"rb\"), delimiter=\",\", skiprows=0)\n",
    "\n",
    "# train the model and make prediction\n",
    "clf = SVC(C=1.0, degree=3, kernel='poly', gamma='auto', probability=False, cache_size=1000)\n",
    "clf.fit(X_train, y_train)\n",
    "y_pred = clf.predict(X_test)\n",
    "\n",
    "# output to corresponding file\n",
    "output = {'Predicted':y_pred}\n",
    "output_df = pd.DataFrame(output)\n",
    "output_df.to_csv('output.csv', index_label='Id')"
   ]
  }
 ],
 "metadata": {
  "kernelspec": {
   "display_name": "Python 3",
   "language": "python",
   "name": "python3"
  },
  "language_info": {
   "codemirror_mode": {
    "name": "ipython",
    "version": 3
   },
   "file_extension": ".py",
   "mimetype": "text/x-python",
   "name": "python",
   "nbconvert_exporter": "python",
   "pygments_lexer": "ipython3",
   "version": "3.7.12"
  },
  "papermill": {
   "default_parameters": {},
   "duration": 12.373353,
   "end_time": "2022-01-13T16:30:10.155244",
   "environment_variables": {},
   "exception": null,
   "input_path": "__notebook__.ipynb",
   "output_path": "__notebook__.ipynb",
   "parameters": {},
   "start_time": "2022-01-13T16:29:57.781891",
   "version": "2.3.3"
  }
 },
 "nbformat": 4,
 "nbformat_minor": 5
}
